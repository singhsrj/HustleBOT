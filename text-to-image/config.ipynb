{
 "cells": [
  {
   "cell_type": "code",
   "execution_count": 1,
   "id": "ad69bebd",
   "metadata": {},
   "outputs": [],
   "source": [
    "from dataclasses import dataclass"
   ]
  },
  {
   "cell_type": "code",
   "execution_count": 3,
   "id": "4943c363",
   "metadata": {},
   "outputs": [],
   "source": [
    "@dataclass\n",
    "class TrainingConfig:\n",
    "    image_size = 128  # the generated image resolution\n",
    "    train_batch_size = 16\n",
    "    eval_batch_size = 16  # how many images to sample during evaluation\n",
    "    num_epochs = 50\n",
    "    gradient_accumulation_steps = 1\n",
    "    learning_rate = 1e-4\n",
    "    lr_warmup_steps = 500\n",
    "    save_image_epochs = 10\n",
    "    save_model_epochs = 30\n",
    "    mixed_precision = \"fp16\"  # `no` for float32, `fp16` for automatic mixed precision\n",
    "    output_dir = \"ddpm-butterflies-128\"  # the model name locally and on the HF Hub\n",
    "\n",
    "    push_to_hub = True  # whether to upload the saved model to the HF Hub\n",
    "    hub_model_id = \"<your-username>/<my-awesome-model>\"  # the name of the repository to create on the HF Hub\n",
    "    hub_private_repo = None\n",
    "    overwrite_output_dir = True  # overwrite the old model when re-running the notebook\n",
    "    seed = 0\n",
    "\n",
    "config = TrainingConfig()\n"
   ]
  },
  {
   "cell_type": "code",
   "execution_count": null,
   "id": "3b37f331",
   "metadata": {},
   "outputs": [
    {
     "name": "stdout",
     "output_type": "stream",
     "text": [
      "Downloading from https://www.kaggle.com/api/v1/datasets/download/rrrrsesrrd/logosss?dataset_version_number=1...\n"
     ]
    },
    {
     "name": "stderr",
     "output_type": "stream",
     "text": [
      "100%|██████████| 826M/826M [02:49<00:00, 5.11MB/s] "
     ]
    },
    {
     "name": "stdout",
     "output_type": "stream",
     "text": [
      "Extracting files...\n"
     ]
    },
    {
     "name": "stderr",
     "output_type": "stream",
     "text": [
      "\n"
     ]
    },
    {
     "name": "stdout",
     "output_type": "stream",
     "text": [
      "Path to dataset files: C:\\Users\\suraj\\.cache\\kagglehub\\datasets\\rrrrsesrrd\\logosss\\versions\\1\n"
     ]
    }
   ],
   "source": [
    "# Download latest version\n",
    "import kagglehub\n",
    "\n",
    "path2 = kagglehub.dataset_download(\"rrrrsesrrd/logosss\")\n",
    "\n",
    "# print(\"Path to dataset files:\", path)\n",
    "print(\"Path to dataset files:\", path2)"
   ]
  },
  {
   "cell_type": "code",
   "execution_count": 13,
   "id": "6f49acc1",
   "metadata": {},
   "outputs": [
    {
     "name": "stdout",
     "output_type": "stream",
     "text": [
      "['abarth', 'abb', 'abbott', 'accenture', 'acer', 'acura', 'adidas', 'adobe', 'aecom', 'aerosmith', 'aig', 'air-france', 'air-jordan', 'air-new-zealand', 'airbnb', 'alaska-airlines', 'aldi', 'alibaba', 'aliexpress', 'alipay', 'allergan', 'amana', 'amazon', 'amd', 'american-airlines', 'american-express', 'android', 'aol', 'app-store', 'apple', 'applebees', 'babies-r-us', 'baidu', 'baker-mckenzie', 'balenciaga', 'bally', 'balmain', 'banfield-pet-hospital', 'bank-of-america', 'barnes-and-noble', 'baskin-robbins', 'bathing-ape', 'batman', 'baxter', 'bayer', 'bbb', 'bbc', 'beats', 'benq', 'bentley', 'bertolli', 'best-buy', 'best-friends-animal-society', 'bing', 'bitcoin', 'bitmoji', 'blizzard', 'blockbuster', 'blockchain', 'blogger', 'bmw', 'bmw-m', 'boeing', 'bosch', 'bose', 'boston-celtics', 'boston-red-sox', 'bp', 'bratz', 'british-airways', 'brother', 'bts', 'cadillac', 'caesars', 'calvin-klein', 'camaro', 'canon', 'capital-one', 'cardinal-health', 'cargill', 'carlsberg', 'cartier', 'cbs', 'century-21', 'champion', 'chanel', 'chase', 'cheetos', 'chevrolet', 'chevron', 'chewy', 'chicago-bears', 'chicago-cubs', 'chick-fil-a', 'chipotle', 'chiquita', 'chloe', 'chrome', 'chrysler', 'cisco', 'citibank', 'citroen', 'clifford-chance', 'cnn', 'coach', 'coca-cola', 'cognizant', 'coldplay', 'coldwell-banker', 'comcast', 'comfort-inn', 'comfort-suites', 'daewoo', 'dasani', 'datsun', 'dc', 'deathwish', 'del-monte', 'dell', 'deloitte', 'delorean', 'detroit-tigers', 'deutsche-bank', 'dgk', 'dhl', 'diadora', 'didi', 'dior', 'directv', 'discover', 'dish-network', 'disney', 'disney-channel', 'disney-world', 'disneyland', 'disturbed', 'dodge', 'dole-food-company', 'domini', 'dope', 'doritos', 'dreamworks', 'duckduckgo', 'dunkin-donuts', 'dupont', 'dyson', 'ea', 'eagles', 'ebay', 'electrolux', 'element', 'endesa', 'envirofit', 'epson', 'equal-housing-opportunity', 'era-real-estate', 'erm', 'espn', 'etsy', 'everlast', 'exelon', 'expedia', 'experian', 'exxon-mobil', 'facebook', 'fandango', 'fanta', 'farm-sanctuary', 'fedex', 'fedex-office', 'ferrari', 'ffc', 'fiat', 'fila', 'finnair', 'firefox', 'fiskars', 'fisker', 'fitbit', 'flickr', 'florida-state-university', 'ford', 'fortnite', 'foursquare', 'fox-news', 'free-fire', 'fresenius', 'freshfields-bruckhaus-deringer', 'frigidaire', 'frozen', 'gap', 'gatorade', 'geico', 'general-electric', 'general-motors', 'genesis', 'github', 'givenchy', 'gm', 'gmail', 'gmc', 'gnc', 'godsmack', 'goldman-sachs', 'goodman', 'google', 'google-business', 'google-maps-app', 'google-play', 'goyard', 'gq', 'grab', 'grand-canyon-u', 'green-giant', 'groupon', 'gucci', 'guess', 'guinness', 'guns-n-roses', 'haier', 'hampton-inn', 'harp-beer', 'harvard', 'hawaiian-airlines', 'hbo', 'healthgrades', 'heinz', 'hermes', 'hershey', 'highsnobiety', 'hino', 'hitachi', 'hm', 'hoffmann-la-roche', 'holden', 'hollister', 'home-depot', 'honda', 'honeywell', 'hope-for-paws', 'horizon-organic', 'hotmail', 'houston-rockets', 'houzz', 'hp', 'hsbc', 'htc', 'huawei', 'huf', 'hulu', 'hummer', 'hyperbeast', 'hyundai', 'h├ñagen-dazs', 'iberia', 'ibm', 'ihop', 'ikea', 'illinois-state-university', 'in-n-out-burger', 'indeed', 'infiniti', 'instagram', 'intel', 'internet-explorer', 'ios', 'iqiyi', 'isuzu', 'itunes', 'iveco', 'jaguar', 'jcpenney', 'jeep', 'jenn-air', 'k-swiss', 'kaiser-permanente', 'kangol', 'kansas-city-chiefs', 'kaspersky', 'kawasaki', 'keller-williams', 'kelloggs', 'kenmore', 'kenzo', 'kfc', 'kia', 'kirkland-ellis', 'kiss', 'kit-kat', 'kitchenaid', 'kith', 'kmart', 'knorr', 'kobelco', 'kodak', 'kpmg', 'kr3w', 'kraft', 'krispy-kreme', 'kroger', 'ktm', 'kyocera', 'la-quinta', 'lacoste', 'lamborghini', 'las-vegas', 'latham-watkins', 'lays', 'lebron-james', 'lego', 'lenovo', 'lexmark', 'lexus', 'lg', 'lincoln', 'linkedin', 'linklaters', 'linux', 'lipsense', 'los-angeles-dodgers', 'los-angeles-lakers', 'louis-vuitton', 'lowes', 'lrg', 'lufthansa', 'lukoil', 'lyft', 'macys', 'maggi', 'magnum', 'manchester-united', 'maroon-5', 'maruchan', 'marvel', 'maserati', 'mastercard', 'maybach', 'maytag', 'mazda', 'mcdonalds', 'mclaren', 'medtronic', 'megadeth', 'meijer', 'mercedes-benz', 'merck', 'mercury', 'merrimack-pharmaceuticals', 'messenger', 'metallica', 'metro-exodus', 'mgm-grand', 'mickey-mouse', 'micron', 'microsoft', 'microsoft-word', 'milka', 'minecraft', 'mini', 'mirinda', 'mit', 'mitsubishi', 'mk', 'mlb', 'mls', 'mobileiron', 'm_m_s', 'nasa', 'nba', 'nbc', 'neff', 'nescaf├⌐', 'nesquik', 'nestle-purina', 'nestl├⌐', 'netflix', 'netscape', 'neuralink', 'new-balance', 'new-england-patriots', 'new-york-giants', 'new-york-mets', 'new-york-yankees', 'newegg', 'nfl', 'nickelodeon', 'nike', 'nirvana', 'nissan', 'nokia', 'nordstrom', 'novartis', 'nutella', 'nvidia', 'old-navy', 'oldsmobile', 'opel', 'openai', 'openstack', 'opentable', 'opera', 'oppo', 'oracle', 'orange', 'oreo', 'organic-valley', 'ormat', 'oscar-mayer', 'outlook', 'ovaltine', 'paccar', 'pagani', 'panasonic', 'panera', 'pantera', 'paramount', 'patagonia', 'paypal', 'peloton', 'pepsi', 'pet-food-express', 'petco', 'petland', 'petrochina', 'petsmart', 'peugeot', 'pfizer', 'pg_e', 'philadelphia-76ers', 'philips', 'philips-healthcare', 'pink-floyd', 'pinterest', 'pixar', 'playstation', 'polo', 'pontiac', 'porsche', 'prada', 'pringles', 'ps4', 'publix', 'puma', 'p_g', 'qatar-airways', 'qualcomm', 'queen', 'quickbooks', 'quiksilver', 'quizlet', 'quora', 'qzone', 'ram', 'real-madrid', 'realtor', 'redbox', 'redfin', 'redr', 'reebok', 'rei', 'reliance-industries', 'renault', 'repsol', 'resident-evil', 'rheem', 'ricoh', 'ricola', 'ripndip', 'roblox', 'robocraft', 'rolex', 'rolling-stones', 'rolls-royce', 'rosneft-oil', 'rossion', 'rover', 'ruf', 'rvca', 'rwe-ag', 'saab', 'safari', 'safeway', 'salesforce', 'samsung', 'san-diego-zoo', 'san-francisco-giants', 'sanofi', 'sap', 'sas', 'sasa', 'saturn', 'schlumberger', 'scion', 'seagate', 'sears', 'sharp', 'shell', 'shopify', 'showtime', 'simplot', 'singapore-airlines', 'sinopec', 'sinopharm', 'skadden', 'skechers', 'skittles', 'skoda', 'skype', 'slack', 'solarcity', 'sony', 'sothebys-international-realty', 'soundcloud', 'spacex', 'sports-authority', 'spotify', 'sprint', 'sprite', 'spyker', 'taco-bell', 'tangled', 'taobao', 'target', 'tchibo', 'teennick', 'telstra', 'tencent', 'tesla', 'the-walt-disney-company', 'the-washington-post', 'thermador', 'thrasher', 'tiffany', 'tiktok', 'timberland', 'time-warner', 'tinder', 'toblerone', 'tommy-hilfiger', 'toronto-zoo', 'toshiba', 'tostitos', 'toyota', 'toys-r-us', 'tripadvisor', 'trulia', 'ttx', 'tumblr', 'tvr', 'twitch', 'twitter', 'twizzlers', 'tyson-foods', 'uaw', 'uber', 'ubuntu', 'ucare', 'ugg', 'umbro', 'uncrate', 'undefeated', 'under-armour', 'undercover', 'unicef', 'unilever', 'uniqlo', 'united-nations', 'united-states-environmental-protection-agency', 'united-technologies', 'universal', 'ups', 'usps', 'valentino', 'vans', 'venmo', 'verisign', 'verizon', 'versace', 'viacom', 'viber', 'victoria-secret-pink', 'vimeo', 'vine', 'vineyard-vines', 'visa', 'vizio', 'volcom', 'volkswagen', 'volvo', 'vons', 'walgreens', 'walmart', 'wattpad', 'wayfair', 'waymo', 'weibo', 'wells-fargo', 'wendys', 'west-virginia-university', 'westinghouse', 'whatsapp', 'whirlpool', 'whole-foods', 'wifi', 'windows-7', 'windows-vista', 'windows-xp', 'wish', 'wordpress', 'wwf', 'xbox', 'xeon', 'xerox', 'xzeres-wind', 'yale', 'yamaha', 'yeezy', 'yelp', 'youtube', 'zara', 'zelle', 'zenvo', 'zillow', 'zumiez', 'zynga']\n"
     ]
    }
   ],
   "source": [
    "import os\n",
    "\n",
    "folder_path = r\"C:\\Users\\suraj\\.cache\\kagglehub\\datasets\\rrrrsesrrd\\logosss\\versions\\1\\kaggle\\working\\Definitivea\"\n",
    "files = os.listdir(folder_path)\n",
    "print(files)\n"
   ]
  },
  {
   "cell_type": "code",
   "execution_count": null,
   "id": "d6621f9e",
   "metadata": {},
   "outputs": [],
   "source": [
    "import os\n",
    "from PIL import Image\n",
    "import matplotlib.pyplot as plt\n",
    "\n",
    "root_folder = folder_path\n",
    "image_extensions = ('.jpg', '.jpeg', '.png', '.bmp', '.gif')\n",
    "\n",
    "# Walk through all subfolders\n",
    "for subdir, dirs, files in os.walk(root_folder):\n",
    "    for file in files:\n",
    "        if file.lower().endswith(image_extensions):\n",
    "            image_path = os.path.join(subdir, file)\n",
    "            try:\n",
    "                img = Image.open(image_path)\n",
    "            except Exception as e:\n",
    "                print(f\"Could not open {image_path}: {e}\")\n"
   ]
  }
 ],
 "metadata": {
  "kernelspec": {
   "display_name": "Python 3",
   "language": "python",
   "name": "python3"
  },
  "language_info": {
   "codemirror_mode": {
    "name": "ipython",
    "version": 3
   },
   "file_extension": ".py",
   "mimetype": "text/x-python",
   "name": "python",
   "nbconvert_exporter": "python",
   "pygments_lexer": "ipython3",
   "version": "3.13.0"
  }
 },
 "nbformat": 4,
 "nbformat_minor": 5
}
